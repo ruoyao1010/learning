{
 "cells": [
  {
   "cell_type": "code",
   "execution_count": 5,
   "metadata": {},
   "outputs": [],
   "source": [
    "from Bio import SeqIO, Seq"
   ]
  },
  {
   "cell_type": "code",
   "execution_count": 6,
   "metadata": {},
   "outputs": [],
   "source": [
    "rec = SeqIO.read('pknh1.fna','fasta')"
   ]
  },
  {
   "cell_type": "code",
   "execution_count": 7,
   "metadata": {},
   "outputs": [
    {
     "data": {
      "text/plain": [
       "SeqRecord(seq=Seq('ATGAGCGACGCACAGGACTCGCGGGTGGGCTCGATGTTTGGGCCCTACCACCTC...TGA', SingleLetterAlphabet()), id='NC_002945.4:c1414014-1412224', name='NC_002945.4:c1414014-1412224', description='NC_002945.4:c1414014-1412224 Mycobacterium bovis AF2122/97 genome assembly, chromosome: Mycobacterium_bovis_AF2122/97', dbxrefs=[])"
      ]
     },
     "execution_count": 7,
     "metadata": {},
     "output_type": "execute_result"
    }
   ],
   "source": [
    "rec"
   ]
  },
  {
   "cell_type": "code",
   "execution_count": 8,
   "metadata": {},
   "outputs": [
    {
     "data": {
      "text/plain": [
       "Bio.SeqRecord.SeqRecord"
      ]
     },
     "execution_count": 8,
     "metadata": {},
     "output_type": "execute_result"
    }
   ],
   "source": [
    "type(rec)"
   ]
  },
  {
   "cell_type": "code",
   "execution_count": 11,
   "metadata": {},
   "outputs": [
    {
     "data": {
      "text/plain": [
       "'GCGACGCACAGGACTC'"
      ]
     },
     "execution_count": 11,
     "metadata": {},
     "output_type": "execute_result"
    }
   ],
   "source": [
    "str(rec.seq)[4:20]"
   ]
  },
  {
   "cell_type": "code",
   "execution_count": 12,
   "metadata": {},
   "outputs": [],
   "source": [
    "s=rec.seq"
   ]
  },
  {
   "cell_type": "code",
   "execution_count": 17,
   "metadata": {},
   "outputs": [
    {
     "data": {
      "text/plain": [
       "'MSDAQDSRVGSMFGPYHLKRLLGRGGMGEVYEAEHTVKEWTVAVKLMTAEFSKDPVFRERMKREARIAGRLQEPHVVPIHDYGEVDGQMFLEMRLVEGTDLDSVLKRFGPLTPPRAVAIITQIASALDAAHADGVMHRDVKPQNILITRDDFAYLVDFGIASATTDEKLTQLGTAVGTWKYMAPERFSNDEVTYRADIYALACVLHECLTGAPPYRADSAGTLVSSHLMGPIPQPSAIRPGIPKAFDAVVARGMAKKPEDRYASAGDLALAAHEALSDPDQDHAADILRRSQESTLPGTAAVTAQPPTMPTVTPPPIQAAPTGQPSWAPNSGPMPASGPTPTPQYYQGGGWGAPPSGGPSPWAQTPRKTNPWPLVAGAAAVVLVLVLGAIGIWIANRPKPVQPPQPVAEERLSALLLNSSEVNAVMGSSSMQPGKPITSMDSSPVTVSLPDCQGALYTSQDPVYAGTGYTAINGLISSEPGDNYEHWVNQAVVAFPTADKARAFVQTSADKWKNCAGKTVTVTNKAKTYRWTFADVKGSPPTITVIDTQEGAEGWECQRAMSVANNVVVDVNACGYQITNQAGQIAAKIVDKVNKE*'"
      ]
     },
     "execution_count": 17,
     "metadata": {},
     "output_type": "execute_result"
    }
   ],
   "source": [
    "str(s.translate())"
   ]
  },
  {
   "cell_type": "code",
   "execution_count": null,
   "metadata": {},
   "outputs": [],
   "source": []
  }
 ],
 "metadata": {
  "kernelspec": {
   "display_name": "Python 3",
   "language": "python",
   "name": "python3"
  },
  "language_info": {
   "codemirror_mode": {
    "name": "ipython",
    "version": 3
   },
   "file_extension": ".py",
   "mimetype": "text/x-python",
   "name": "python",
   "nbconvert_exporter": "python",
   "pygments_lexer": "ipython3",
   "version": "3.6.8"
  }
 },
 "nbformat": 4,
 "nbformat_minor": 2
}
