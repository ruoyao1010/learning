{
 "cells": [
  {
   "cell_type": "code",
   "execution_count": 2,
   "metadata": {},
   "outputs": [],
   "source": [
    "import math\n",
    "import random\n",
    "import string"
   ]
  },
  {
   "cell_type": "markdown",
   "metadata": {},
   "source": [
    "## this is a test notebook"
   ]
  },
  {
   "cell_type": "code",
   "execution_count": 3,
   "metadata": {},
   "outputs": [
    {
     "name": "stdout",
     "output_type": "stream",
     "text": [
      "10\n"
     ]
    },
    {
     "data": {
      "text/plain": [
       "0"
      ]
     },
     "execution_count": 3,
     "metadata": {},
     "output_type": "execute_result"
    }
   ],
   "source": [
    "x=10\n",
    "print (x)\n",
    "math.ceil(10.45)\n",
    "random.normalvariate(1,.5)\n",
    "random.randint(0,25)\n"
   ]
  },
  {
   "cell_type": "code",
   "execution_count": 7,
   "metadata": {},
   "outputs": [],
   "source": [
    "d={}\n",
    "d[1] = 8"
   ]
  },
  {
   "cell_type": "markdown",
   "metadata": {},
   "source": [
    "## write a loop printing 20 random letters"
   ]
  },
  {
   "cell_type": "code",
   "execution_count": 6,
   "metadata": {},
   "outputs": [
    {
     "name": "stdout",
     "output_type": "stream",
     "text": [
      "0 22 w\n",
      "1 11 l\n",
      "2 25 z\n",
      "3 2 c\n",
      "4 1 b\n",
      "5 2 c\n",
      "6 6 g\n",
      "7 3 d\n",
      "8 19 t\n",
      "9 8 i\n",
      "10 3 d\n",
      "11 21 v\n",
      "12 10 k\n",
      "13 17 r\n",
      "14 24 y\n",
      "15 4 e\n",
      "16 23 x\n",
      "17 3 d\n",
      "18 4 e\n",
      "19 14 o\n",
      "['w', 'l', 'z', 'c', 'b', 'c', 'g', 'd', 't', 'i', 'd', 'v', 'k', 'r', 'y', 'e', 'x', 'd', 'e', 'o']\n"
     ]
    }
   ],
   "source": [
    "s = string.ascii_lowercase\n",
    "x=[]\n",
    "\n",
    "#for loop creating a new list\n",
    "for i in range(20):\n",
    "    j = random.randint(0,25)\n",
    "    print (i, j, s[j])\n",
    "    x.append(s[j])\n",
    "    \n",
    "print (x)\n",
    "\n",
    "#comprehension method\n",
    "#x = [random.randint(1,10) for i in range(20)]\n",
    "#print (x)\n"
   ]
  },
  {
   "cell_type": "markdown",
   "metadata": {},
   "source": [
    "## create a random dictionary of 10 elements"
   ]
  },
  {
   "cell_type": "code",
   "execution_count": 11,
   "metadata": {},
   "outputs": [
    {
     "name": "stdout",
     "output_type": "stream",
     "text": [
      "{'z': 11, 'r': 2, 'e': 10, 'y': 4, 't': 5, 'b': 4, 'm': 6}\n"
     ]
    }
   ],
   "source": [
    "d={}\n",
    "for i in range(10):\n",
    "    k = s[random.randint(0,25)]\n",
    "    d[k]=random.randint(1,15)\n",
    "print (d)"
   ]
  },
  {
   "cell_type": "code",
   "execution_count": 12,
   "metadata": {},
   "outputs": [
    {
     "data": {
      "text/plain": [
       "11"
      ]
     },
     "execution_count": 12,
     "metadata": {},
     "output_type": "execute_result"
    }
   ],
   "source": [
    "d['z']"
   ]
  },
  {
   "cell_type": "markdown",
   "metadata": {},
   "source": [
    "## check is a number is > 4"
   ]
  },
  {
   "cell_type": "code",
   "execution_count": 19,
   "metadata": {},
   "outputs": [
    {
     "name": "stdout",
     "output_type": "stream",
     "text": [
      "4.933898704331152\n"
     ]
    }
   ],
   "source": [
    "x=random.random()*5\n",
    "if x > 4:\n",
    "    print (x)\n",
    "else:\n",
    "    print ('no')\n"
   ]
  },
  {
   "cell_type": "code",
   "execution_count": null,
   "metadata": {},
   "outputs": [],
   "source": []
  }
 ],
 "metadata": {
  "kernelspec": {
   "display_name": "Python 3",
   "language": "python",
   "name": "python3"
  },
  "language_info": {
   "codemirror_mode": {
    "name": "ipython",
    "version": 3
   },
   "file_extension": ".py",
   "mimetype": "text/x-python",
   "name": "python",
   "nbconvert_exporter": "python",
   "pygments_lexer": "ipython3",
   "version": "3.6.8"
  }
 },
 "nbformat": 4,
 "nbformat_minor": 2
}
